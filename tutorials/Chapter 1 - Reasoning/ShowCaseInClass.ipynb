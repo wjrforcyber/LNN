{
 "cells": [
  {
   "cell_type": "markdown",
   "metadata": {},
   "source": [
    "# Cases of concepts in LNN\n",
    "\n",
    "**_Jingren Wang, Oct 11th, 2025_**"
   ]
  },
  {
   "cell_type": "markdown",
   "metadata": {},
   "source": [
    "## The representation of the \"Cat-Dog example\"\n",
    "An example on left part covering upward, downward, etc.\n",
    "<center>\n",
    "    <figure>\n",
    "    <img src=\"CatDogExample.png\" width=\"330\" />\n",
    "        <figcaption>Figure 1. Cat-Dog example on LNN.</figcaption>\n",
    " </figure>\n",
    "</center>"
   ]
  },
  {
   "cell_type": "code",
   "execution_count": 154,
   "metadata": {},
   "outputs": [
    {
     "name": "stdout",
     "output_type": "stream",
     "text": [
      "== Show the intermidate data on Chases ==\n",
      "\n",
      "OPEN Proposition: Chases                                    TRUE (1.0, 1.0)\n",
      "\n"
     ]
    }
   ],
   "source": [
    "from lnn import Proposition, And, Or, Fact, Implies\n",
    "\n",
    "# Rules\n",
    "Whiskers = Proposition(\"Whiskers\")\n",
    "Tail = Proposition(\"Tail\")\n",
    "Cat = Proposition(\"Cat\")\n",
    "Dog = Proposition(\"Dog\")\n",
    "Chases = Proposition(\"Chases\")\n",
    "Pet = Proposition(\"Pet\")\n",
    "LaserPointer = Proposition(\"LaserPointer\")\n",
    "\n",
    "# You saw a laser pointer, you knew the implying rules\n",
    "LaserPointer.add_data(Fact.TRUE)\n",
    "IMPLIES = Implies(LaserPointer, Chases)\n",
    "IMPLIES.add_data(Fact.TRUE)\n",
    "# Reasoning(D) the result(We don't really need this in this example, just showcase here)\n",
    "IMPLIES.downward()\n",
    "print(\"== Show the intermidate data on Chases ==\\n\")\n",
    "Chases.print()"
   ]
  },
  {
   "cell_type": "code",
   "execution_count": 155,
   "metadata": {},
   "outputs": [
    {
     "name": "stdout",
     "output_type": "stream",
     "text": [
      "\n",
      "== Show the intermidate data on left AND2 ==\n",
      "\n",
      "OPEN And: (Whiskers ∧ Tail ∧ (LaserPointer → Chases))          TRUE (1.0, 1.0)\n",
      "\n"
     ]
    }
   ],
   "source": [
    "Whiskers.add_data(Fact.TRUE)\n",
    "Tail.add_data(Fact.TRUE)\n",
    "#AND = And(Whiskers, Tail)\n",
    "#AND.upward()\n",
    "AND2 = And(Whiskers, Tail, IMPLIES)\n",
    "# Reasoning(U) the result\n",
    "AND2.upward()\n",
    "print(\"\\n== Show the intermidate data on left AND2 ==\\n\")\n",
    "AND2.print()\n"
   ]
  },
  {
   "cell_type": "code",
   "execution_count": 156,
   "metadata": {},
   "outputs": [
    {
     "name": "stdout",
     "output_type": "stream",
     "text": [
      "\n",
      "== Show the intermidate data on IMPLES2 ==\n",
      "\n",
      "OPEN Implies: ((Whiskers ∧ Tail ∧ (LaserPointer → Chases)) → Cat)          TRUE (1.0, 1.0)\n",
      "\n"
     ]
    }
   ],
   "source": [
    "Cat.add_data(Fact.TRUE)\n",
    "# Reasoning(D) the result on IMPLES2\n",
    "IMPLIES2 = Implies(AND2, Cat)\n",
    "IMPLIES2.upward()\n",
    "print(\"\\n== Show the intermidate data on IMPLES2 ==\\n\")\n",
    "IMPLIES2.print()"
   ]
  },
  {
   "cell_type": "markdown",
   "metadata": {},
   "source": [
    "**_It's okey if an input of an OR is undefined:_**"
   ]
  },
  {
   "cell_type": "code",
   "execution_count": 157,
   "metadata": {},
   "outputs": [
    {
     "name": "stdout",
     "output_type": "stream",
     "text": [
      "\n",
      "== Show the intermidate data on OR_Animal ==\n",
      "\n",
      "OPEN Or: (Cat ∨ Dog)                                        TRUE (1.0, 1.0)\n",
      "\n"
     ]
    }
   ],
   "source": [
    "OR_Animal = Or(Cat, Dog)\n",
    "OR_Animal.upward()\n",
    "print(\"\\n== Show the intermidate data on OR_Animal ==\\n\")\n",
    "OR_Animal.print()"
   ]
  },
  {
   "cell_type": "code",
   "execution_count": 158,
   "metadata": {},
   "outputs": [
    {
     "name": "stdout",
     "output_type": "stream",
     "text": [
      "\n",
      "== Show the intermidate data on IMPLES3 ==\n",
      "\n",
      "OPEN Implies: ((Cat ∨ Dog) → Pet)                          FALSE (0.0, 0.0)\n",
      "\n"
     ]
    }
   ],
   "source": [
    "IMPLIES3 = Implies(OR_Animal, Pet)\n",
    "Pet.add_data(Fact.FALSE)\n",
    "IMPLIES3.upward()\n",
    "print(\"\\n== Show the intermidate data on IMPLES3 ==\\n\")\n",
    "IMPLIES3.print()"
   ]
  },
  {
   "cell_type": "markdown",
   "metadata": {},
   "source": [
    "### An unknown case"
   ]
  },
  {
   "cell_type": "code",
   "execution_count": 159,
   "metadata": {},
   "outputs": [
    {
     "name": "stdout",
     "output_type": "stream",
     "text": [
      "== Show the possiblilty intermidate data on IMPLIES_p ==\n",
      "\n",
      "OPEN Implies: (LaserPointer → Chases)                    UNKNOWN (0.0, 1.0)\n",
      "\n"
     ]
    }
   ],
   "source": [
    "IMPLIES_u = Implies(LaserPointer, Chases)\n",
    "print(\"== Show the possiblilty intermidate data on IMPLIES_p ==\\n\")\n",
    "IMPLIES_u.print()"
   ]
  },
  {
   "cell_type": "markdown",
   "metadata": {},
   "source": [
    "### A simple showcase on possibilities\n",
    "You could try to fully edit the inputs after this talk to make a concrete example."
   ]
  },
  {
   "cell_type": "code",
   "execution_count": 160,
   "metadata": {},
   "outputs": [
    {
     "name": "stdout",
     "output_type": "stream",
     "text": [
      "== Show the possiblilty intermidate data on IMPLIES_p ==\n",
      "\n",
      "OPEN Implies: (LaserPointer → Chases)               APPROX_FALSE (0.2, 0.4)\n",
      "\n"
     ]
    }
   ],
   "source": [
    "LaserPointer.add_data((.8, .9))\n",
    "Chases.add_data((.1, .2))\n",
    "IMPLIES_p = Implies(LaserPointer, Chases)\n",
    "IMPLIES_p.upward()\n",
    "print(\"== Show the possiblilty intermidate data on IMPLIES_p ==\\n\")\n",
    "IMPLIES_p.print()"
   ]
  },
  {
   "cell_type": "markdown",
   "metadata": {},
   "source": [
    "# LNN Training (Borrowed from IBM LNN)\n",
    "\n",
    "In this section, we demonstrate how to train a single logical conjunction to become consistent when inconsistencies arise. \n",
    "\n",
    "If we are given a mix of _True_ and _False_ propositions in a logical conjunction that we expected to also be _True_:\n",
    "<center>\n",
    "    <figure>\n",
    "    <img src=\"./img/2/and_1.png\" width=\"520\" />\n",
    "        <figcaption>Figure 1. Logical conjunction between nodes</figcaption>\n",
    " </figure>\n",
    "</center>"
   ]
  },
  {
   "cell_type": "code",
   "execution_count": 161,
   "metadata": {},
   "outputs": [],
   "source": [
    "from lnn import Propositions, And, Fact\n",
    "\n",
    "# Rules\n",
    "A, B, C, D, E = Propositions(\"A\", \"B\", \"C\", \"D\", \"E\")\n",
    "AND = And(A, B, C, D, E)\n",
    "\n",
    "\n",
    "# Data\n",
    "A.add_data(Fact.TRUE)\n",
    "B.add_data(Fact.FALSE)\n",
    "C.add_data(Fact.TRUE)\n",
    "D.add_data(Fact.FALSE)\n",
    "E.add_data(Fact.TRUE)\n",
    "AND.add_data(Fact.TRUE)"
   ]
  },
  {
   "cell_type": "markdown",
   "metadata": {},
   "source": [
    "We expect an upward inference at the conjunction will cause a contradiction:\n",
    "<center>\n",
    "    <figure>\n",
    "    <img src=\"./img/2/and_2.png\" width=\"520\" />\n",
    "        <figcaption>Figure 2. Upward inference causing a contradiction</figcaption>\n",
    " </figure>\n",
    "</center>"
   ]
  },
  {
   "cell_type": "code",
   "execution_count": 162,
   "metadata": {},
   "outputs": [
    {
     "name": "stdout",
     "output_type": "stream",
     "text": [
      "OPEN And: (A ∧ B ∧ C ∧ D ∧ E)                      CONTRADICTION (1.0, 0.0)\n",
      "\n"
     ]
    }
   ],
   "source": [
    "from lnn import Model, Loss, Direction\n",
    "\n",
    "# Knowledge\n",
    "model = Model()\n",
    "model.add_knowledge(AND)\n",
    "\n",
    "# Reasoning\n",
    "model.infer()\n",
    "AND.print()"
   ]
  },
  {
   "cell_type": "markdown",
   "metadata": {},
   "source": [
    "By introducing a loss on the contradiction:\n",
    "\n",
    "\\begin{align}\n",
    " Loss = \\lambda \\sum_{\\forall i} \\text{max} (0, L_i - U_i)\n",
    "\\end{align}\n",
    "\n",
    "we can train the LNN to adjust the weights such that all sources of contradictions (the _False_ inputs) become downweighted and eventually removed.\n",
    "\n",
    "<center>\n",
    "    <figure>\n",
    "    <img src=\"./img/2/and_3.png\" width=\"520\" />\n",
    "        <figcaption>Figure 3. Training the LNN using a contradiction loss</figcaption>\n",
    " </figure>\n",
    "</center>\n",
    "\n",
    "\n",
    "A final reasoning pass with the updated parameters causes the logical conjunction to remain <strong style=color:#0e6027>TRUE</strong> and keeps it consistent with the data that has been supplied. \n"
   ]
  },
  {
   "cell_type": "code",
   "execution_count": 163,
   "metadata": {},
   "outputs": [
    {
     "name": "stdout",
     "output_type": "stream",
     "text": [
      "OPEN And: (A ∧ B ∧ C ∧ D ∧ E)                               TRUE (1.0, 1.0)\n",
      "params  α: 1.0,  β: 1.0,  w: [1. 0. 1. 0. 1.]\n"
     ]
    }
   ],
   "source": [
    "# Training\n",
    "model.train(direction=Direction.UPWARD, losses=[Loss.CONTRADICTION])\n",
    "AND.print(params=True)"
   ]
  },
  {
   "cell_type": "markdown",
   "metadata": {},
   "source": [
    "As expected, the weights of the `False` inputs have all dropped to zero, removing their contribution to the truth of the `And` node. The resulting network therefore reasons in a self-supervised manner, ensuring that the interaction between the knowledge and the data is consistent.\n",
    "> When unspecified, the loss coefficient $\\lambda = 1$"
   ]
  }
 ],
 "metadata": {
  "kernelspec": {
   "display_name": "lnn-contrib",
   "language": "python",
   "name": "python3"
  },
  "language_info": {
   "codemirror_mode": {
    "name": "ipython",
    "version": 3
   },
   "file_extension": ".py",
   "mimetype": "text/x-python",
   "name": "python",
   "nbconvert_exporter": "python",
   "pygments_lexer": "ipython3",
   "version": "3.9.6"
  }
 },
 "nbformat": 4,
 "nbformat_minor": 2
}
